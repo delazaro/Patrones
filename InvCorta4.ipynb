{
  "nbformat": 4,
  "nbformat_minor": 0,
  "metadata": {
    "colab": {
      "name": "InvCorta4.ipynb",
      "provenance": [],
      "authorship_tag": "ABX9TyM0OhXwExXPwvtXX6ffQ/r6",
      "include_colab_link": true
    },
    "kernelspec": {
      "name": "python3",
      "display_name": "Python 3"
    },
    "language_info": {
      "name": "python"
    }
  },
  "cells": [
    {
      "cell_type": "markdown",
      "metadata": {
        "id": "view-in-github",
        "colab_type": "text"
      },
      "source": [
        "<a href=\"https://colab.research.google.com/github/delazaro/Patrones/blob/main/InvCorta4.ipynb\" target=\"_parent\"><img src=\"https://colab.research.google.com/assets/colab-badge.svg\" alt=\"Open In Colab\"/></a>"
      ]
    },
    {
      "cell_type": "markdown",
      "metadata": {
        "id": "BajJmZf1PDiz"
      },
      "source": [
        "***INVESTIGACION CORTA 4 ***\n",
        "\n",
        "\n",
        "El objetivo de este trabajo consiste en investigar sobre un tema de actualidad, debe abordarse desde la perspectiva teórica/práctica. Se recomienda de preferencia usar una notebook, de manera que pueda tener en un solo lugar, teoría y código para ejemplificar conceptos, en caso de que sea necesario. La entrega es el día 29 de julio antes de las 4pm, como en los casos anteriores debe enviar por correo el url de la notebook en github. Durante esa sesión y la siguiente cada estudiante presentará en un periodo de 15-20min el tema, se evaluará tanto la presentación como la participación de los otros estudiantes en la discusión. Si tiene alguna duda de cómo abordar el tema puede escribir al Profesor\n",
        "\n",
        "\n",
        "\n"
      ]
    },
    {
      "cell_type": "markdown",
      "metadata": {
        "id": "pukgfhq6RjS0"
      },
      "source": [
        "**AUTOML** \n",
        "\n",
        "Machine learning automatizada o AutoML es un concepto donde parte del proceso del desarrollo de un machine learning se automatiza , en especial aquellos que procesos iterativos y los que conllevan una inversion importante de tiempo. Es importante recalcar que AUTOML no se refiere a la automatizacion total del desarrollo de ML sino que a la pequena parte del desarrollo que tiene las caracteristicas necesarias para una automatizacion. \n",
        "\n",
        "El fin de esto es promover y facilitar aun mas el uso e implementation de MLs en los negocios facilitando ciertos procesos del desarrollo de ML. estos procesos involucran varios pasos como pre-procesado de datos , ingenieria de features , extraccion y seleccion de datos , seleccion del algoritmo adecuado,  ademas de la optimizacion ajustando los hyper parametros del metodo de ML para un mejor accuracy. Totos estos procesos son complejos y requieren expertos en ML o data science por lo que se vuelven un impedamiento para algunas empresas o investigadores para el uso de ML en sus soluciones. \n",
        "\n",
        "En general autoML ayuda a que el aprendizaje automático sea menos una caja negra al hacerlo más accesible. Este proceso automatiza las partes del proceso de aprendizaje automático que aplican el algoritmo a escenarios del mundo real. Como se menciono anteriormente un humano que realiza esta tarea necesitaría una comprensión de la lógica interna del algoritmo y cómo se relaciona con los escenarios del mundo real.\n",
        "\n",
        "Otro punto fuerte de la automatización del proceso de aprendizaje automático es que ahora los científicos de datos pueden centrarse en el por qué de la creación de modelos en lugar del cómo. Teniendo en cuenta las cantidades extremadamente grandes de datos disponibles para muchas empresas y el abrumador número de preguntas que se pueden responder con estos datos, un equipo de análisis puede prestar atención a los aspectos del modelo para los que deben optimizar. , como el problema clásico de minimizar los falsos negativos en las pruebas médicas\n",
        "\n",
        "\n",
        "\n",
        "**Panorama actual**\n",
        "\n",
        "En primer lugar, es importante tener en cuenta que puede encontrar diferentes tipos de herramientas que se pueden clasificar como AutoML. Una forma de clasificarlos es separando aquellos que se centran en partes específicas de la automatización de procesos de Machine Learning y aquellos que intentan cubrir ML end to end. \n",
        "\n",
        "Las tecnologias de autoML mas conocidas son DataRobot y las open-source H20.ai\n",
        "\n",
        "*DataRobot*\n",
        "\n",
        "DataRobot es probablemente la solución comercial más conocida para AutoML y uno de los unicornios en el espacio de la IA, con una valoración superior a 1 billón de dólares. Data Robot ofrece en resumen lo que ellos consideran las 10 características principales que debe buscar en una solución AutoML como lo que son : \n",
        "\n",
        "Preprocessing of Data\n",
        "\n",
        "Feature Engineering\n",
        "\n",
        "Diverse Algorithms\n",
        "\n",
        "Algorithm Selection\n",
        "\n",
        "Training and tuning\n",
        "\n",
        "Ensembling\n",
        "\n",
        "Head to Head Model Competitions\n",
        "\n",
        "Human-Friendly Insights\n",
        "\n",
        "Easy Deployment\n",
        "\n",
        "Model Monitoring and Managemen\n",
        "\n",
        "\n",
        " \n",
        "*H2O.ai*\n",
        "\n",
        "H20.ai define su plataforma como \"el líder de código abierto en IA y aprendizaje automático con la misión de democratizar la IA para todos\". La compañía ofrece un paquete AutoML como parte de su plataforma Open Source\n",
        "\n",
        "Tambien tenemos otras tecnologias prominentes en el sector como Google AutoML y auto-sklearn , esta ultima es la que vamos a utilizar para los ejemplos practicos de esta investigacion corta ya que es Python based. \n",
        "\n",
        "auto-sklearn se basa en gran medida en el recurso de módulo de Python.Este recurso es parte de los servicios específicos de Unix de Python y no está disponible en Windows. Por lo tanto, no es posible ejecutar auto-sklearn en un equipo con Windows **Por lo que los ejemplos se van a escribir a continuacion pero no se van a poder ejecutar. **\n"
      ]
    },
    {
      "cell_type": "markdown",
      "metadata": {
        "id": "6yyZWEgyc5hf"
      },
      "source": [
        "***Auto-Sklearn***\n",
        "\n",
        "auto-sklearn es un kit de herramientas de aprendizaje automático automatizado y un reemplazo directo para un  scikit-learn estimator\n",
        "\n",
        "auto-sklearn libera a un usuario de ML de la selección de algoritmos y el ajuste de hiperparámetros. Aprovecha las ventajas recientes en la optimización bayesiana, el meta-learning y la construcción de conjuntos\n"
      ]
    },
    {
      "cell_type": "markdown",
      "metadata": {
        "id": "0YN-b7nkk36I"
      },
      "source": [
        "En el ejemplo siguiente se muestra cómo ajustar un modelo de clasificación simple con auto-sklearn.\n",
        "\n"
      ]
    },
    {
      "cell_type": "code",
      "metadata": {
        "id": "4EQ8IEspc5Li"
      },
      "source": [
        "import sklearn.datasets\n",
        "import sklearn.metrics\n",
        "\n",
        "import autosklearn.classification"
      ],
      "execution_count": null,
      "outputs": []
    },
    {
      "cell_type": "markdown",
      "metadata": {
        "id": "e3xZDv9YlF0s"
      },
      "source": [
        "Construyendo un clasificador "
      ]
    },
    {
      "cell_type": "code",
      "metadata": {
        "id": "IwfCSxKVlFWF"
      },
      "source": [
        "X, y = sklearn.datasets.load_breast_cancer(return_X_y=True)\n",
        "X_train, X_test, y_train, y_test = \\\n",
        "    sklearn.model_selection.train_test_split(X, y, random_state=1)"
      ],
      "execution_count": null,
      "outputs": []
    },
    {
      "cell_type": "code",
      "metadata": {
        "id": "4ztppvAuhDR_"
      },
      "source": [
        "automl = autosklearn.classification.AutoSklearnClassifier(\n",
        "    time_left_for_this_task=120,\n",
        "    per_run_time_limit=30,\n",
        "    tmp_folder='/tmp/autosklearn_classification_example_tmp',\n",
        "    output_folder='/tmp/autosklearn_classification_example_out',\n",
        ")\n",
        "automl.fit(X_train, y_train, dataset_name='breast_cancer')"
      ],
      "execution_count": null,
      "outputs": []
    },
    {
      "cell_type": "markdown",
      "metadata": {
        "id": "EJGjflPBleLe"
      },
      "source": [
        "Obteniendo el score del final ensemble"
      ]
    },
    {
      "cell_type": "code",
      "metadata": {
        "id": "PN_ao8hYlzIP"
      },
      "source": [
        "predictions = automl.predict(X_test)\n",
        "print(\"Accuracy score:\", sklearn.metrics.accuracy_score(y_test, predictions))"
      ],
      "execution_count": null,
      "outputs": []
    },
    {
      "cell_type": "markdown",
      "metadata": {
        "id": "e2U2kczZlqge"
      },
      "source": [
        "Out:\n",
        "Accuracy score: 0.95104895104895"
      ]
    },
    {
      "cell_type": "markdown",
      "metadata": {
        "id": "X6YRaxW0iF8k"
      },
      "source": [
        "Esta codigo se corre durante aproximadamente 2 minutos y el accuracy score final es de 95% \n"
      ]
    },
    {
      "cell_type": "markdown",
      "metadata": {
        "id": "v0q04_NaRdOI"
      },
      "source": [
        "Referencias\n",
        "\n",
        "\n",
        "https://docs.microsoft.com/en-us/azure/machine-learning/concept-automated-ml\n",
        "\n",
        "https://towardsdatascience.com/a-brief-introduction-to-automl-4854c76877b6\n",
        "\n",
        "https://www.ibm.com/cloud/learn/automl\n",
        "\n",
        "https://automl.github.io/auto-sklearn/master/\n",
        "\n",
        "https://automl.github.io/auto-sklearn/master/examples/20_basic/example_classification.html#sphx-glr-examples-20-basic-example-classification-py\n",
        "\n",
        "\n",
        "\n",
        "\n",
        "\n",
        "\n",
        "\n",
        "\n",
        "\n"
      ]
    }
  ]
}